{
  "nbformat": 4,
  "nbformat_minor": 0,
  "metadata": {
    "colab": {
      "name": "Handwritten Character Recognition using Keras - HDS.ipynb",
      "version": "0.3.2",
      "provenance": []
    },
    "kernelspec": {
      "name": "python3",
      "display_name": "Python 3"
    }
  },
  "cells": [
    {
      "cell_type": "code",
      "metadata": {
        "id": "JaGEzKrgjd6r",
        "colab_type": "code",
        "outputId": "f19974bb-b27d-4a85-9572-2b692190e6d4",
        "colab": {
          "base_uri": "https://localhost:8080/",
          "height": 34
        }
      },
      "source": [
        "import keras\n",
        "from keras.datasets import mnist\n",
        "from keras.models import Sequential\n",
        "from keras.layers import Dense\n",
        "\n",
        "from sklearn.model_selection import train_test_split\n",
        "\n",
        "import matplotlib.pyplot as plt"
      ],
      "execution_count": 0,
      "outputs": [
        {
          "output_type": "stream",
          "text": [
            "Using TensorFlow backend.\n"
          ],
          "name": "stderr"
        }
      ]
    },
    {
      "cell_type": "code",
      "metadata": {
        "id": "CK-ZNJLrkNJV",
        "colab_type": "code",
        "outputId": "6d6d3b87-3b80-4595-fa7f-7f1d38757df9",
        "colab": {
          "base_uri": "https://localhost:8080/",
          "height": 51
        }
      },
      "source": [
        "(xtrain, ytrain), (xtest, ytest) = mnist.load_data()"
      ],
      "execution_count": 0,
      "outputs": [
        {
          "output_type": "stream",
          "text": [
            "Downloading data from https://s3.amazonaws.com/img-datasets/mnist.npz\n",
            "11493376/11490434 [==============================] - 3s 0us/step\n"
          ],
          "name": "stdout"
        }
      ]
    },
    {
      "cell_type": "code",
      "metadata": {
        "id": "nVEqloj4kvaE",
        "colab_type": "code",
        "colab": {}
      },
      "source": [
        "xtrain, xtest = xtrain/ 255.0, xtest/255.0"
      ],
      "execution_count": 0,
      "outputs": []
    },
    {
      "cell_type": "code",
      "metadata": {
        "id": "p6QIK7qX2_zy",
        "colab_type": "code",
        "colab": {}
      },
      "source": [
        "xtrain = xtrain.reshape(-1,784)\n",
        "xtest = xtest.reshape(-1, 784)"
      ],
      "execution_count": 0,
      "outputs": []
    },
    {
      "cell_type": "code",
      "metadata": {
        "id": "2dLUIfyqkgm3",
        "colab_type": "code",
        "outputId": "50d9afe6-8cde-412b-dcf2-3a5d07c038cd",
        "colab": {
          "base_uri": "https://localhost:8080/",
          "height": 364
        }
      },
      "source": [
        "plt.imshow(xtrain[2].reshape(28, 28), cmap='Greys')"
      ],
      "execution_count": 0,
      "outputs": [
        {
          "output_type": "execute_result",
          "data": {
            "text/plain": [
              "<matplotlib.image.AxesImage at 0x7f368841a978>"
            ]
          },
          "metadata": {
            "tags": []
          },
          "execution_count": 5
        },
        {
          "output_type": "display_data",
          "data": {
            "image/png": "[encoded data removed]",
            "text/plain": [
              "<Figure size 576x396 with 1 Axes>"
            ]
          },
          "metadata": {
            "tags": []
          }
        }
      ]
    },
    {
      "cell_type": "code",
      "metadata": {
        "id": "mR7XRwAY3k4e",
        "colab_type": "code",
        "outputId": "b347e78b-e3bf-4599-e451-b14312143826",
        "colab": {
          "base_uri": "https://localhost:8080/",
          "height": 34
        }
      },
      "source": [
        "xtrain.shape"
      ],
      "execution_count": 0,
      "outputs": [
        {
          "output_type": "execute_result",
          "data": {
            "text/plain": [
              "(60000, 784)"
            ]
          },
          "metadata": {
            "tags": []
          },
          "execution_count": 6
        }
      ]
    },
    {
      "cell_type": "code",
      "metadata": {
        "id": "88m5Oaw0kmZu",
        "colab_type": "code",
        "outputId": "2f1b2d66-6585-4ce7-a909-e7a7dfc77bf3",
        "colab": {
          "base_uri": "https://localhost:8080/",
          "height": 68
        }
      },
      "source": [
        "model = Sequential([Dense(32, activation='relu', input_shape=(xtrain.shape[1],)),\n",
        "                   Dense(10, activation='softmax')])"
      ],
      "execution_count": 0,
      "outputs": [
        {
          "output_type": "stream",
          "text": [
            "WARNING:tensorflow:From /usr/local/lib/python3.6/dist-packages/tensorflow/python/framework/op_def_library.py:263: colocate_with (from tensorflow.python.framework.ops) is deprecated and will be removed in a future version.\n",
            "Instructions for updating:\n",
            "Colocations handled automatically by placer.\n"
          ],
          "name": "stdout"
        }
      ]
    },
    {
      "cell_type": "code",
      "metadata": {
        "id": "u6HAxOqblQJd",
        "colab_type": "code",
        "outputId": "99d25e8f-0d75-433e-e806-8326ed82b60b",
        "colab": {
          "base_uri": "https://localhost:8080/",
          "height": 204
        }
      },
      "source": [
        "model.summary()"
      ],
      "execution_count": 0,
      "outputs": [
        {
          "output_type": "stream",
          "text": [
            "_________________________________________________________________\n",
            "Layer (type)                 Output Shape              Param #   \n",
            "=================================================================\n",
            "dense_1 (Dense)              (None, 32)                25120     \n",
            "_________________________________________________________________\n",
            "dense_2 (Dense)              (None, 10)                330       \n",
            "=================================================================\n",
            "Total params: 25,450\n",
            "Trainable params: 25,450\n",
            "Non-trainable params: 0\n",
            "_________________________________________________________________\n"
          ],
          "name": "stdout"
        }
      ]
    },
    {
      "cell_type": "code",
      "metadata": {
        "id": "vpe4NpEK4e_B",
        "colab_type": "code",
        "colab": {}
      },
      "source": [
        "model.compile(loss='sparse_categorical_crossentropy',\n",
        "              optimizer=\"adam\",\n",
        "              metrics=['accuracy'])"
      ],
      "execution_count": 0,
      "outputs": []
    },
    {
      "cell_type": "code",
      "metadata": {
        "id": "UlwVPwTx28tY",
        "colab_type": "code",
        "outputId": "ebcc70d9-1c34-47a1-d09b-d4a34ffe9a2d",
        "colab": {
          "base_uri": "https://localhost:8080/",
          "height": 1105
        }
      },
      "source": [
        "history = model.fit(xtrain, ytrain, epochs=30, validation_split=0.2, verbose=1)"
      ],
      "execution_count": 0,
      "outputs": [
        {
          "output_type": "stream",
          "text": [
            "WARNING:tensorflow:From /usr/local/lib/python3.6/dist-packages/tensorflow/python/ops/math_ops.py:3066: to_int32 (from tensorflow.python.ops.math_ops) is deprecated and will be removed in a future version.\n",
            "Instructions for updating:\n",
            "Use tf.cast instead.\n",
            "Train on 48000 samples, validate on 12000 samples\n",
            "Epoch 1/30\n",
            "48000/48000 [==============================] - 3s 57us/step - loss: 0.3981 - acc: 0.8892 - val_loss: 0.2334 - val_acc: 0.9348\n",
            "Epoch 2/30\n",
            "48000/48000 [==============================] - 3s 54us/step - loss: 0.2194 - acc: 0.9363 - val_loss: 0.1932 - val_acc: 0.9443\n",
            "Epoch 3/30\n",
            "48000/48000 [==============================] - 3s 53us/step - loss: 0.1738 - acc: 0.9498 - val_loss: 0.1666 - val_acc: 0.9524\n",
            "Epoch 4/30\n",
            "48000/48000 [==============================] - 3s 54us/step - loss: 0.1433 - acc: 0.9582 - val_loss: 0.1487 - val_acc: 0.9597\n",
            "Epoch 5/30\n",
            "48000/48000 [==============================] - 3s 53us/step - loss: 0.1244 - acc: 0.9637 - val_loss: 0.1457 - val_acc: 0.9588\n",
            "Epoch 6/30\n",
            "48000/48000 [==============================] - 3s 53us/step - loss: 0.1097 - acc: 0.9680 - val_loss: 0.1448 - val_acc: 0.9579\n",
            "Epoch 7/30\n",
            "48000/48000 [==============================] - 3s 53us/step - loss: 0.0985 - acc: 0.9706 - val_loss: 0.1330 - val_acc: 0.9615\n",
            "Epoch 8/30\n",
            "48000/48000 [==============================] - 3s 53us/step - loss: 0.0879 - acc: 0.9737 - val_loss: 0.1345 - val_acc: 0.9612\n",
            "Epoch 9/30\n",
            "48000/48000 [==============================] - 3s 54us/step - loss: 0.0817 - acc: 0.9755 - val_loss: 0.1276 - val_acc: 0.9651\n",
            "Epoch 10/30\n",
            "48000/48000 [==============================] - 3s 53us/step - loss: 0.0740 - acc: 0.9781 - val_loss: 0.1272 - val_acc: 0.9652\n",
            "Epoch 11/30\n",
            "48000/48000 [==============================] - 3s 53us/step - loss: 0.0674 - acc: 0.9804 - val_loss: 0.1302 - val_acc: 0.9645\n",
            "Epoch 12/30\n",
            "48000/48000 [==============================] - 3s 54us/step - loss: 0.0632 - acc: 0.9809 - val_loss: 0.1233 - val_acc: 0.9666\n",
            "Epoch 13/30\n",
            "48000/48000 [==============================] - 3s 53us/step - loss: 0.0583 - acc: 0.9827 - val_loss: 0.1254 - val_acc: 0.9653\n",
            "Epoch 14/30\n",
            "48000/48000 [==============================] - 3s 53us/step - loss: 0.0545 - acc: 0.9835 - val_loss: 0.1289 - val_acc: 0.9648\n",
            "Epoch 15/30\n",
            "48000/48000 [==============================] - 3s 54us/step - loss: 0.0510 - acc: 0.9847 - val_loss: 0.1311 - val_acc: 0.9629\n",
            "Epoch 16/30\n",
            "48000/48000 [==============================] - 3s 54us/step - loss: 0.0465 - acc: 0.9861 - val_loss: 0.1320 - val_acc: 0.9635\n",
            "Epoch 17/30\n",
            "48000/48000 [==============================] - 3s 54us/step - loss: 0.0432 - acc: 0.9877 - val_loss: 0.1371 - val_acc: 0.9644\n",
            "Epoch 18/30\n",
            "48000/48000 [==============================] - 3s 53us/step - loss: 0.0402 - acc: 0.9883 - val_loss: 0.1380 - val_acc: 0.9630\n",
            "Epoch 19/30\n",
            "48000/48000 [==============================] - 3s 53us/step - loss: 0.0377 - acc: 0.9889 - val_loss: 0.1318 - val_acc: 0.9656\n",
            "Epoch 20/30\n",
            "48000/48000 [==============================] - 3s 53us/step - loss: 0.0358 - acc: 0.9894 - val_loss: 0.1319 - val_acc: 0.9657\n",
            "Epoch 21/30\n",
            "48000/48000 [==============================] - 3s 53us/step - loss: 0.0335 - acc: 0.9900 - val_loss: 0.1355 - val_acc: 0.9654\n",
            "Epoch 22/30\n",
            "48000/48000 [==============================] - 3s 54us/step - loss: 0.0306 - acc: 0.9910 - val_loss: 0.1357 - val_acc: 0.9651\n",
            "Epoch 23/30\n",
            "48000/48000 [==============================] - 3s 55us/step - loss: 0.0299 - acc: 0.9914 - val_loss: 0.1380 - val_acc: 0.9661\n",
            "Epoch 24/30\n",
            "48000/48000 [==============================] - 3s 53us/step - loss: 0.0268 - acc: 0.9920 - val_loss: 0.1388 - val_acc: 0.9663\n",
            "Epoch 25/30\n",
            "48000/48000 [==============================] - 3s 54us/step - loss: 0.0245 - acc: 0.9932 - val_loss: 0.1402 - val_acc: 0.9653\n",
            "Epoch 26/30\n",
            "48000/48000 [==============================] - 3s 54us/step - loss: 0.0250 - acc: 0.9925 - val_loss: 0.1463 - val_acc: 0.9663\n",
            "Epoch 27/30\n",
            "48000/48000 [==============================] - 3s 54us/step - loss: 0.0226 - acc: 0.9937 - val_loss: 0.1397 - val_acc: 0.9663\n",
            "Epoch 28/30\n",
            "48000/48000 [==============================] - 3s 54us/step - loss: 0.0208 - acc: 0.9941 - val_loss: 0.1435 - val_acc: 0.9675\n",
            "Epoch 29/30\n",
            "48000/48000 [==============================] - 3s 54us/step - loss: 0.0206 - acc: 0.9940 - val_loss: 0.1525 - val_acc: 0.9665\n",
            "Epoch 30/30\n",
            "48000/48000 [==============================] - 3s 54us/step - loss: 0.0188 - acc: 0.9945 - val_loss: 0.1558 - val_acc: 0.9648\n"
          ],
          "name": "stdout"
        }
      ]
    },
    {
      "cell_type": "code",
      "metadata": {
        "id": "uIlC8htN48Lr",
        "colab_type": "code",
        "outputId": "3ea55af2-50d2-4c45-bf44-d26985adb71b",
        "colab": {
          "base_uri": "https://localhost:8080/",
          "height": 34
        }
      },
      "source": [
        "history.history.keys()"
      ],
      "execution_count": 0,
      "outputs": [
        {
          "output_type": "execute_result",
          "data": {
            "text/plain": [
              "dict_keys(['val_loss', 'val_acc', 'loss', 'acc'])"
            ]
          },
          "metadata": {
            "tags": []
          },
          "execution_count": 11
        }
      ]
    },
    {
      "cell_type": "code",
      "metadata": {
        "id": "4Z9O8f3j4wte",
        "colab_type": "code",
        "outputId": "ffe59fa9-915e-4961-e7c0-e111f8ec3e84",
        "colab": {
          "base_uri": "https://localhost:8080/",
          "height": 415
        }
      },
      "source": [
        "plt.plot(history.epoch, history.history['loss'], \n",
        "        history.epoch, history.history['acc'], \n",
        "        history.epoch, history.history['val_loss'],\n",
        "        history.epoch, history.history['val_acc'])"
      ],
      "execution_count": 0,
      "outputs": [
        {
          "output_type": "execute_result",
          "data": {
            "text/plain": [
              "[<matplotlib.lines.Line2D at 0x7f3681086b00>,\n",
              " <matplotlib.lines.Line2D at 0x7f3681086c88>,\n",
              " <matplotlib.lines.Line2D at 0x7f368080f048>,\n",
              " <matplotlib.lines.Line2D at 0x7f368080f3c8>]"
            ]
          },
          "metadata": {
            "tags": []
          },
          "execution_count": 12
        },
        {
          "output_type": "display_data",
          "data": {
            "image/png": "[encoded data removed]",
            "text/plain": [
              "<Figure size 576x396 with 1 Axes>"
            ]
          },
          "metadata": {
            "tags": []
          }
        }
      ]
    },
    {
      "cell_type": "code",
      "metadata": {
        "id": "hf55cLOT4chj",
        "colab_type": "code",
        "outputId": "8d9af9e1-926c-4ae0-9785-8efe674c25fe",
        "colab": {
          "base_uri": "https://localhost:8080/",
          "height": 51
        }
      },
      "source": [
        "model.evaluate(xtest, ytest)"
      ],
      "execution_count": 0,
      "outputs": [
        {
          "output_type": "stream",
          "text": [
            "10000/10000 [==============================] - 0s 25us/step\n"
          ],
          "name": "stdout"
        },
        {
          "output_type": "execute_result",
          "data": {
            "text/plain": [
              "[0.13668268217125587, 0.966]"
            ]
          },
          "metadata": {
            "tags": []
          },
          "execution_count": 13
        }
      ]
    },
    {
      "cell_type": "code",
      "metadata": {
        "id": "yS4rfdBNhwZU",
        "colab_type": "code",
        "colab": {}
      },
      "source": [
        ""
      ],
      "execution_count": 0,
      "outputs": []
    }
  ]
}